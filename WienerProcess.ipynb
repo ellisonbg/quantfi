{
 "metadata": {
  "name": "",
  "signature": "sha256:164353b2dcfc8e7a9a43a634462db46c42abd5b565d12d5452f22880370436d0"
 },
 "nbformat": 3,
 "nbformat_minor": 0,
 "worksheets": [
  {
   "cells": [
    {
     "cell_type": "code",
     "collapsed": false,
     "input": [
      "%matplotlib inline\n",
      "import numpy as np\n",
      "import matplotlib.pyplot as plt"
     ],
     "language": "python",
     "metadata": {},
     "outputs": [],
     "prompt_number": 1
    },
    {
     "cell_type": "markdown",
     "metadata": {},
     "source": [
      "Let $N(\\mu,\\sigma^2)$ be a normal distribution. A Wiener process $W(t)$ is the limit of a discrete stocastic process. To construct this process, split the total time $t$ into $n$ small intervals of length $h$: $t=nh$. Then, at each time $t_j=jh$, the change in $W$ will just be normally distributed:\n",
      "\n",
      "$$\n",
      "W_{j+1}-W_j = \\sqrt{h}Z_j\n",
      "$$\n",
      "\n",
      "where $Z_j \\sim N(0,1)$. Finally take $h\\rightarrow0$ to make it a continuous process."
     ]
    },
    {
     "cell_type": "markdown",
     "metadata": {},
     "source": [
      "Here is a Python function that implements one realization of a Wiener process:"
     ]
    },
    {
     "cell_type": "code",
     "collapsed": false,
     "input": [
      "def wiener(maxt, n):\n",
      "    \"\"\"Return one realization of a Wiener process with n steps and a max time of t.\"\"\"\n",
      "    t = np.linspace(0.0,maxt,n)\n",
      "    h = t[1]-t[0]\n",
      "    Z = np.random.normal(0.0,1.0,n)\n",
      "    dW = np.sqrt(h)*Z\n",
      "    W = dW.cumsum()\n",
      "    return t, W"
     ],
     "language": "python",
     "metadata": {},
     "outputs": [],
     "prompt_number": 31
    },
    {
     "cell_type": "code",
     "collapsed": false,
     "input": [
      "t, W = wiener(1.0,500)"
     ],
     "language": "python",
     "metadata": {},
     "outputs": [],
     "prompt_number": 48
    },
    {
     "cell_type": "code",
     "collapsed": false,
     "input": [
      "plt.plot(t,W)"
     ],
     "language": "python",
     "metadata": {},
     "outputs": [
      {
       "metadata": {},
       "output_type": "pyout",
       "prompt_number": 49,
       "text": [
        "[<matplotlib.lines.Line2D at 0x109023510>]"
       ]
      },
      {
       "metadata": {},
       "output_type": "display_data",
       "png": "[encoded data removed]",
       "text": [
        "<matplotlib.figure.Figure at 0x108f9e450>"
       ]
      }
     ],
     "prompt_number": 49
    },
    {
     "cell_type": "code",
     "collapsed": false,
     "input": [],
     "language": "python",
     "metadata": {},
     "outputs": []
    }
   ],
   "metadata": {}
  }
 ]
}